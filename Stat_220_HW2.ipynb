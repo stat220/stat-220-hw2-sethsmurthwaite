{
  "cells": [
    {
      "cell_type": "markdown",
      "metadata": {
        "id": "vEqJaQQ4xG9K"
      },
      "source": [
        "[![Open in Colab](https://colab.research.google.com/assets/colab-badge.svg)](https://colab.research.google.com/github/drbob-richardson/stat220/blob/main/Assignments/Stat_220_HW2.ipynb)"
      ]
    },
    {
      "cell_type": "markdown",
      "metadata": {
        "id": "p0Jeg70FvG6D"
      },
      "source": [
        "**Problem 1** A baseball player has a batting average of .240 against right handed pitchers and .375 against left handed pitchers. A batting average can be thought of as the probability they will get a hit."
      ]
    },
    {
      "cell_type": "code",
      "source": [
        "import math\n",
        "import numpy as np\n",
        "import matplotlib.pyplot as plt"
      ],
      "metadata": {
        "id": "IixAymH4yB1K"
      },
      "execution_count": 1,
      "outputs": []
    },
    {
      "cell_type": "markdown",
      "metadata": {
        "id": "mjW2p9LywoQ_"
      },
      "source": [
        "Part a. What is the probability the baseball player gets 3 out of 4 hits against a right handed pitcher?"
      ]
    },
    {
      "cell_type": "code",
      "execution_count": 2,
      "metadata": {
        "id": "8-JI8OPxwu4r",
        "colab": {
          "base_uri": "https://localhost:8080/"
        },
        "outputId": "24afbc16-5e36-4cdf-c01a-d4fcd1fda811"
      },
      "outputs": [
        {
          "output_type": "stream",
          "name": "stdout",
          "text": [
            "0.04202495999999999\n"
          ]
        }
      ],
      "source": [
        "# I think I want to use the binomial function for this one.\n",
        "# p(Y=k) = nCk * p^k * (1-p)^(n-k)\n",
        "# n choose K = (n!) / (k! - (n-k)!)\n",
        "\n",
        "def nChooseK(n, k):\n",
        "  return math.factorial(n) / (math.factorial(k) * math.factorial(n-k))\n",
        "\n",
        "def binomial(n, k, p):\n",
        "  return nChooseK(n, k) * (p**k) * ((1-p)**(n-k))\n",
        "\n",
        "probability = binomial(4, 3, .240)\n",
        "print(probability)"
      ]
    },
    {
      "cell_type": "markdown",
      "metadata": {
        "id": "iuq4VdwYwvO9"
      },
      "source": [
        "Part b. What is the probability the baseball gets 3 out of 4 hits against a left handed pitcher."
      ]
    },
    {
      "cell_type": "code",
      "execution_count": 3,
      "metadata": {
        "id": "Us2ZnQSlw0x_",
        "colab": {
          "base_uri": "https://localhost:8080/"
        },
        "outputId": "868bb305-d108-4635-8747-b6c1e5ae0f1a"
      },
      "outputs": [
        {
          "output_type": "stream",
          "name": "stdout",
          "text": [
            "0.1318359375\n"
          ]
        }
      ],
      "source": [
        "probability = binomial(4, 3, .375)\n",
        "print(probability)"
      ]
    },
    {
      "cell_type": "markdown",
      "metadata": {
        "id": "QXJfKQHBxgR6"
      },
      "source": [
        "Part c. The baseball player gets 3 out of 4 hits against a randomly chosen pitcher. Based on these results, what would you assume about what hand the pitcher uses?"
      ]
    },
    {
      "cell_type": "markdown",
      "metadata": {
        "id": "VeEcIBCxxqPn"
      },
      "source": [
        "Based on the results, I would assume the player got 3 out of 4 hits against the left-handed pitcher."
      ]
    },
    {
      "cell_type": "markdown",
      "metadata": {
        "id": "SDGIExslxGCv"
      },
      "source": [
        "Part d. Assume that the pitcher is randomly chosen from the team where 80% of the pitchers are right handed. Use Bayes rule to determine the probability the pitcher is right handed given that the batter hits 3 out of 4 pitches."
      ]
    },
    {
      "cell_type": "code",
      "execution_count": 4,
      "metadata": {
        "id": "n76xVOIaxsoX",
        "colab": {
          "base_uri": "https://localhost:8080/"
        },
        "outputId": "4512bd6b-70e3-4d6b-cd92-ee2458333d9d"
      },
      "outputs": [
        {
          "output_type": "stream",
          "name": "stdout",
          "text": [
            "0.5604528966179452\n"
          ]
        }
      ],
      "source": [
        "# bayes rule:\n",
        "# P(A|B) = ( P(B|A) * P(A) ) / ( (P(B|A) * P(A)) + (P(B|notA) * P(A)) )\n",
        "\n",
        "def bayes(p_b_a, p_a, p_b_not_a):\n",
        "  return (p_b_a * p_a) / ((p_b_a * p_a) + (p_b_not_a * (1 - p_a)))\n",
        "\n",
        "probability = bayes(.042025, .8, .131836)\n",
        "print(probability)"
      ]
    },
    {
      "cell_type": "markdown",
      "metadata": {
        "id": "u6z8NiewxxoP"
      },
      "source": [
        "**Problem 2** The probability of rain in Arizona on a randomly chosen day of the year is 5%. A researcher started a study on rain in Arizona and noted 3 days in a row of rain. The researcher calculated the probability of this in the following way:\n",
        "\n",
        "Pr(3 days of rain) = Pr(1 day of rain)^3 = .05^3 = .000125\n",
        "\n",
        "The researcher was so excited about finding such a rare event that he published his results. You write a scathing review of his publication stating he made a poor assumption about rain. What did the researcher get wrong?\n"
      ]
    },
    {
      "cell_type": "markdown",
      "metadata": {
        "id": "JldplVYsUYyA"
      },
      "source": [
        "The researching assumed that the change of  rain occurring on a specific day was independent from the day preceding. It is likely that the probability of rain on a specific day is higher than if it hadn't rained the previous day.\n",
        "\n",
        "It is also required to note that certain seasons have higher amounts of rain than others."
      ]
    },
    {
      "cell_type": "markdown",
      "metadata": {
        "id": "xOmMCaJQzUAd"
      },
      "source": [
        "**Problem 3** A stock trader is examining stocks. Let event A be the event that Stock A falls. Let event B be the event that Stock B falls. Assume the following.\n",
        "\n",
        "*   Pr(A) = 0.4\n",
        "*   Pr(B) = 0.25\n",
        "*   Pr(A and B) = 0.15\n"
      ]
    },
    {
      "cell_type": "markdown",
      "metadata": {
        "id": "cXuzb3Kn2mIh"
      },
      "source": [
        "Part a. What is the probability that either events A or B happen?"
      ]
    },
    {
      "cell_type": "code",
      "execution_count": 5,
      "metadata": {
        "id": "gdTGwVnR2qaZ",
        "colab": {
          "base_uri": "https://localhost:8080/"
        },
        "outputId": "0ba37328-5ed1-4940-d46c-59c5e0f2e318"
      },
      "outputs": [
        {
          "output_type": "stream",
          "name": "stdout",
          "text": [
            "0.5\n"
          ]
        }
      ],
      "source": [
        "p_a = .4\n",
        "p_b = .25\n",
        "p_a_and_b = .15\n",
        "probability = p_a + p_b - p_a_and_b\n",
        "print(probability)"
      ]
    },
    {
      "cell_type": "markdown",
      "metadata": {
        "id": "mmS34xQ82qyK"
      },
      "source": [
        "Part b. From this, can you make statement as to whether or not events A and B are mutually exclusive?"
      ]
    },
    {
      "cell_type": "markdown",
      "metadata": {
        "id": "wWocGT3HxG9R"
      },
      "source": [
        "Yes. We know that A and B are not mutually exclusive, since Pr(A and B) is not equal to 0. There is a 15% chance of both events happening, so they are not mutually exclusive."
      ]
    },
    {
      "cell_type": "markdown",
      "metadata": {
        "id": "8zEdzepjxG9R"
      },
      "source": [
        "Part c. What can you say about if events A and B are independent?"
      ]
    },
    {
      "cell_type": "markdown",
      "metadata": {
        "id": "sOiAufW-xG9R"
      },
      "source": [
        "We know that A and B are not idependent since P(A and B) does not equal P(A) * P(B). (.15 != .4 * .25)"
      ]
    },
    {
      "cell_type": "markdown",
      "metadata": {
        "id": "Uhv41ow1swdd"
      },
      "source": [
        "**Problem 4** Each time a person shops at a grocery store, the event of catching a cold or some other virus from another shopper is independent from visit to visit and has a constant probability over the year, equal to 0.01."
      ]
    },
    {
      "cell_type": "markdown",
      "metadata": {
        "id": "3cN1ISlms2X-"
      },
      "source": [
        "Part a. In 100 trips to this store over the course of a year, the probability of catching a virus while shopping there is 100(0.01) = 1.0. What is wrong with this reasoning?"
      ]
    },
    {
      "cell_type": "markdown",
      "metadata": {
        "id": "5P6uZCAss74u"
      },
      "source": [
        "This reasoning is incorrect becuase it assumes that since you have gone once without catching a virus, you are more likely to catch it next time you go. This is not true. The correct formula should be\n",
        "\n",
        "P = 1 - (.99 ^ 100) = 1 - .37 = .63"
      ]
    },
    {
      "cell_type": "markdown",
      "metadata": {
        "id": "xkfLkFiys8lO"
      },
      "source": [
        "Part b. Find the correct probability in (a)."
      ]
    },
    {
      "cell_type": "code",
      "execution_count": 6,
      "metadata": {
        "id": "lCdV9U4ZWECf",
        "colab": {
          "base_uri": "https://localhost:8080/"
        },
        "outputId": "3eda42b7-e82c-4e6e-ce87-d21f4e023f2a"
      },
      "outputs": [
        {
          "output_type": "stream",
          "name": "stdout",
          "text": [
            "0.6339676587267709\n"
          ]
        }
      ],
      "source": [
        "probability = 1 - (0.99 ** 100)\n",
        "print(probability)"
      ]
    },
    {
      "cell_type": "markdown",
      "metadata": {
        "id": "1nUUpZ8qSW3_"
      },
      "source": [
        "Part c. Determine the expected number of days someone would go to a grocery store before they catch a cold or some other virus."
      ]
    },
    {
      "cell_type": "code",
      "source": [
        "def geometric(p):\n",
        "  return 1 / p\n",
        "\n",
        "expected_days = geometric(.01)\n",
        "print(expected_days)"
      ],
      "metadata": {
        "colab": {
          "base_uri": "https://localhost:8080/"
        },
        "id": "V7Hr5FSK47O-",
        "outputId": "e024d3ca-4997-4ade-93d8-27e24f0385f6"
      },
      "execution_count": 7,
      "outputs": [
        {
          "output_type": "stream",
          "name": "stdout",
          "text": [
            "100.0\n"
          ]
        }
      ]
    },
    {
      "cell_type": "markdown",
      "metadata": {
        "id": "4QE2cv4juKMj"
      },
      "source": [
        "**Problem 5** A quiz has twelve multiple-choice questions, with four possible answers for each. A student who is completely unprepared randomly guesses the answer for each question. Let Y denote the number of correct responses"
      ]
    },
    {
      "cell_type": "markdown",
      "metadata": {
        "id": "AHNFN2JgxG9S"
      },
      "source": [
        "Part a. What is the name of the distribution that can be used to determine the number of questionsd guessed correctly? What are the parameters of this distribution?"
      ]
    },
    {
      "cell_type": "markdown",
      "metadata": {
        "id": "WQLSnJ_QxG9S"
      },
      "source": [
        "This is the binomial distribution. We know this since the binomial distribution is used to find the probable success count for a specific number of trials. In this situation, we can consider each question a trial, and the student getting the answer correct can be considered a success.\n",
        "\n",
        "The parameters of this distribution are n (the number of trials performed) and p (the probability of success)."
      ]
    },
    {
      "cell_type": "markdown",
      "metadata": {
        "id": "tWDxpF7yuZcR"
      },
      "source": [
        "Part b. Find the probability that the students gets (i) all 12, (ii) none of the questions correct."
      ]
    },
    {
      "cell_type": "code",
      "execution_count": 8,
      "metadata": {
        "id": "BIiWMzxRtpFm",
        "colab": {
          "base_uri": "https://localhost:8080/"
        },
        "outputId": "d3b7dbce-ea18-456f-fb54-4278fb8fdf38"
      },
      "outputs": [
        {
          "output_type": "stream",
          "name": "stdout",
          "text": [
            "(i) 5.960464477539063e-08\n",
            "(ii) 0.03167635202407837\n"
          ]
        }
      ],
      "source": [
        "probability = binomial(12, 12, .25)\n",
        "print(f'(i) {probability}')\n",
        "probability = binomial(12, 0, .25)\n",
        "print(f'(ii) {probability}')"
      ]
    },
    {
      "cell_type": "markdown",
      "metadata": {
        "id": "agAmt4E2xG9S"
      },
      "source": [
        "Part c. What is the expected value and variance of the number of questions guessed correctly?"
      ]
    },
    {
      "cell_type": "code",
      "execution_count": 9,
      "metadata": {
        "colab": {
          "base_uri": "https://localhost:8080/"
        },
        "id": "90YtUve3xG9S",
        "outputId": "acbee1d0-a599-4800-ce83-39197d64b5c6"
      },
      "outputs": [
        {
          "output_type": "stream",
          "name": "stdout",
          "text": [
            "Expected value: 3.0\n",
            "Variance: 2.25\n"
          ]
        }
      ],
      "source": [
        "# E(Z) = np\n",
        "# Var(Z) = np(1-p)\n",
        "\n",
        "expected_value = 12 * .25\n",
        "variance = 12 * .25 * .75\n",
        "print(f'Expected value: {expected_value}')\n",
        "print(f'Variance: {variance}')"
      ]
    },
    {
      "cell_type": "code",
      "source": [],
      "metadata": {
        "id": "TA61ObeK72BV"
      },
      "execution_count": 9,
      "outputs": []
    }
  ],
  "metadata": {
    "colab": {
      "provenance": []
    },
    "kernelspec": {
      "display_name": "Python 3",
      "name": "python3"
    },
    "language_info": {
      "name": "python"
    }
  },
  "nbformat": 4,
  "nbformat_minor": 0
}